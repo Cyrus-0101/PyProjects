{
 "cells": [
  {
   "cell_type": "code",
   "execution_count": 1,
   "metadata": {},
   "outputs": [
    {
     "data": {
      "text/plain": [
       "['.ipynb_checkpoints',\n",
       " 'supermarkets.json',\n",
       " 'supermarkets.xlsx',\n",
       " 'Untitled.ipynb']"
      ]
     },
     "execution_count": 1,
     "metadata": {},
     "output_type": "execute_result"
    }
   ],
   "source": [
    "import os\n",
    "os.listdir()"
   ]
  },
  {
   "cell_type": "code",
   "execution_count": 2,
   "metadata": {},
   "outputs": [],
   "source": [
    "import pandas"
   ]
  },
  {
   "cell_type": "code",
   "execution_count": 7,
   "metadata": {},
   "outputs": [
    {
     "data": {
      "text/html": [
       "<div>\n",
       "<style scoped>\n",
       "    .dataframe tbody tr th:only-of-type {\n",
       "        vertical-align: middle;\n",
       "    }\n",
       "\n",
       "    .dataframe tbody tr th {\n",
       "        vertical-align: top;\n",
       "    }\n",
       "\n",
       "    .dataframe thead th {\n",
       "        text-align: right;\n",
       "    }\n",
       "</style>\n",
       "<table border=\"1\" class=\"dataframe\">\n",
       "  <thead>\n",
       "    <tr style=\"text-align: right;\">\n",
       "      <th></th>\n",
       "      <th>Lead</th>\n",
       "      <th>Title</th>\n",
       "      <th>Phone</th>\n",
       "      <th>Notes</th>\n",
       "    </tr>\n",
       "    <tr>\n",
       "      <th>ID</th>\n",
       "      <th></th>\n",
       "      <th></th>\n",
       "      <th></th>\n",
       "      <th></th>\n",
       "    </tr>\n",
       "  </thead>\n",
       "  <tbody>\n",
       "    <tr>\n",
       "      <th>1</th>\n",
       "      <td>Jim Grayson</td>\n",
       "      <td>Senior Manager</td>\n",
       "      <td>(555)761-2385</td>\n",
       "      <td>Spoke Tuesday, he's interested</td>\n",
       "    </tr>\n",
       "    <tr>\n",
       "      <th>2</th>\n",
       "      <td>Prescilla Winston</td>\n",
       "      <td>Development Director</td>\n",
       "      <td>(555)218-3981</td>\n",
       "      <td>said to call again next week</td>\n",
       "    </tr>\n",
       "    <tr>\n",
       "      <th>3</th>\n",
       "      <td>Melissa Potter</td>\n",
       "      <td>Head of Accounts</td>\n",
       "      <td>(555)791-3471</td>\n",
       "      <td>Not interested, gave referral</td>\n",
       "    </tr>\n",
       "  </tbody>\n",
       "</table>\n",
       "</div>"
      ],
      "text/plain": [
       "                 Lead                 Title          Phone  \\\n",
       "ID                                                           \n",
       "1         Jim Grayson        Senior Manager  (555)761-2385   \n",
       "2   Prescilla Winston  Development Director  (555)218-3981   \n",
       "3      Melissa Potter      Head of Accounts  (555)791-3471   \n",
       "\n",
       "                             Notes  \n",
       "ID                                  \n",
       "1   Spoke Tuesday, he's interested  \n",
       "2     said to call again next week  \n",
       "3    Not interested, gave referral  "
      ]
     },
     "execution_count": 7,
     "metadata": {},
     "output_type": "execute_result"
    }
   ],
   "source": [
    "df1=pandas.read_csv(\"supermarkets.csv\")\n",
    "df1.set_index(\"ID\")"
   ]
  },
  {
   "cell_type": "code",
   "execution_count": 8,
   "metadata": {},
   "outputs": [
    {
     "data": {
      "text/plain": [
       "(3, 5)"
      ]
     },
     "execution_count": 8,
     "metadata": {},
     "output_type": "execute_result"
    }
   ],
   "source": [
    "df1.shape"
   ]
  },
  {
   "cell_type": "code",
   "execution_count": 10,
   "metadata": {},
   "outputs": [
    {
     "data": {
      "text/html": [
       "<div>\n",
       "<style scoped>\n",
       "    .dataframe tbody tr th:only-of-type {\n",
       "        vertical-align: middle;\n",
       "    }\n",
       "\n",
       "    .dataframe tbody tr th {\n",
       "        vertical-align: top;\n",
       "    }\n",
       "\n",
       "    .dataframe thead th {\n",
       "        text-align: right;\n",
       "    }\n",
       "</style>\n",
       "<table border=\"1\" class=\"dataframe\">\n",
       "  <thead>\n",
       "    <tr style=\"text-align: right;\">\n",
       "      <th></th>\n",
       "      <th>Address</th>\n",
       "      <th>City</th>\n",
       "      <th>State</th>\n",
       "      <th>Country</th>\n",
       "      <th>Name</th>\n",
       "      <th>Employees</th>\n",
       "    </tr>\n",
       "    <tr>\n",
       "      <th>ID</th>\n",
       "      <th></th>\n",
       "      <th></th>\n",
       "      <th></th>\n",
       "      <th></th>\n",
       "      <th></th>\n",
       "      <th></th>\n",
       "    </tr>\n",
       "  </thead>\n",
       "  <tbody>\n",
       "    <tr>\n",
       "      <th>1</th>\n",
       "      <td>3666 21st St</td>\n",
       "      <td>San Francisco</td>\n",
       "      <td>CA 94114</td>\n",
       "      <td>USA</td>\n",
       "      <td>Madeira</td>\n",
       "      <td>8</td>\n",
       "    </tr>\n",
       "    <tr>\n",
       "      <th>2</th>\n",
       "      <td>735 Dolores St</td>\n",
       "      <td>San Francisco</td>\n",
       "      <td>CA 94119</td>\n",
       "      <td>USA</td>\n",
       "      <td>Bready Shop</td>\n",
       "      <td>15</td>\n",
       "    </tr>\n",
       "    <tr>\n",
       "      <th>3</th>\n",
       "      <td>332 Hill St</td>\n",
       "      <td>San Francisco</td>\n",
       "      <td>California 94114</td>\n",
       "      <td>USA</td>\n",
       "      <td>Super River</td>\n",
       "      <td>25</td>\n",
       "    </tr>\n",
       "    <tr>\n",
       "      <th>4</th>\n",
       "      <td>3995 23rd St</td>\n",
       "      <td>San Francisco</td>\n",
       "      <td>CA 94114</td>\n",
       "      <td>USA</td>\n",
       "      <td>Ben's Shop</td>\n",
       "      <td>10</td>\n",
       "    </tr>\n",
       "    <tr>\n",
       "      <th>5</th>\n",
       "      <td>1056 Sanchez St</td>\n",
       "      <td>San Francisco</td>\n",
       "      <td>California</td>\n",
       "      <td>USA</td>\n",
       "      <td>Sanchez</td>\n",
       "      <td>12</td>\n",
       "    </tr>\n",
       "    <tr>\n",
       "      <th>6</th>\n",
       "      <td>551 Alvarado St</td>\n",
       "      <td>San Francisco</td>\n",
       "      <td>CA 94114</td>\n",
       "      <td>USA</td>\n",
       "      <td>Richvalley</td>\n",
       "      <td>20</td>\n",
       "    </tr>\n",
       "  </tbody>\n",
       "</table>\n",
       "</div>"
      ],
      "text/plain": [
       "            Address           City             State Country         Name  \\\n",
       "ID                                                                          \n",
       "1      3666 21st St  San Francisco          CA 94114     USA      Madeira   \n",
       "2    735 Dolores St  San Francisco          CA 94119     USA  Bready Shop   \n",
       "3       332 Hill St  San Francisco  California 94114     USA  Super River   \n",
       "4      3995 23rd St  San Francisco          CA 94114     USA   Ben's Shop   \n",
       "5   1056 Sanchez St  San Francisco        California     USA      Sanchez   \n",
       "6   551 Alvarado St  San Francisco          CA 94114     USA   Richvalley   \n",
       "\n",
       "    Employees  \n",
       "ID             \n",
       "1           8  \n",
       "2          15  \n",
       "3          25  \n",
       "4          10  \n",
       "5          12  \n",
       "6          20  "
      ]
     },
     "execution_count": 10,
     "metadata": {},
     "output_type": "execute_result"
    }
   ],
   "source": [
    "df2=pandas.read_json(\"supermarkets.json\")\n",
    "df2.set_index(\"ID\")"
   ]
  },
  {
   "cell_type": "code",
   "execution_count": 12,
   "metadata": {},
   "outputs": [
    {
     "data": {
      "text/html": [
       "<div>\n",
       "<style scoped>\n",
       "    .dataframe tbody tr th:only-of-type {\n",
       "        vertical-align: middle;\n",
       "    }\n",
       "\n",
       "    .dataframe tbody tr th {\n",
       "        vertical-align: top;\n",
       "    }\n",
       "\n",
       "    .dataframe thead th {\n",
       "        text-align: right;\n",
       "    }\n",
       "</style>\n",
       "<table border=\"1\" class=\"dataframe\">\n",
       "  <thead>\n",
       "    <tr style=\"text-align: right;\">\n",
       "      <th></th>\n",
       "      <th>Address</th>\n",
       "      <th>City</th>\n",
       "      <th>State</th>\n",
       "      <th>Country</th>\n",
       "      <th>Supermarket</th>\n",
       "      <th>Number of Employees</th>\n",
       "    </tr>\n",
       "    <tr>\n",
       "      <th>ID</th>\n",
       "      <th></th>\n",
       "      <th></th>\n",
       "      <th></th>\n",
       "      <th></th>\n",
       "      <th></th>\n",
       "      <th></th>\n",
       "    </tr>\n",
       "  </thead>\n",
       "  <tbody>\n",
       "    <tr>\n",
       "      <th>1</th>\n",
       "      <td>3666 21st St</td>\n",
       "      <td>San Francisco</td>\n",
       "      <td>CA 94114</td>\n",
       "      <td>USA</td>\n",
       "      <td>Madeira</td>\n",
       "      <td>8</td>\n",
       "    </tr>\n",
       "    <tr>\n",
       "      <th>2</th>\n",
       "      <td>735 Dolores St</td>\n",
       "      <td>San Francisco</td>\n",
       "      <td>CA 94119</td>\n",
       "      <td>USA</td>\n",
       "      <td>Walmart</td>\n",
       "      <td>20</td>\n",
       "    </tr>\n",
       "    <tr>\n",
       "      <th>3</th>\n",
       "      <td>332 Hill St</td>\n",
       "      <td>San Francisco</td>\n",
       "      <td>California</td>\n",
       "      <td>USA</td>\n",
       "      <td>game</td>\n",
       "      <td>15</td>\n",
       "    </tr>\n",
       "    <tr>\n",
       "      <th>4</th>\n",
       "      <td>3995 23rd St</td>\n",
       "      <td>San Francisco</td>\n",
       "      <td>CA 94114</td>\n",
       "      <td>USA</td>\n",
       "      <td>Toys-R-Us</td>\n",
       "      <td>35</td>\n",
       "    </tr>\n",
       "    <tr>\n",
       "      <th>5</th>\n",
       "      <td>1056 Sanchez St</td>\n",
       "      <td>San Francisco</td>\n",
       "      <td>California</td>\n",
       "      <td>USA</td>\n",
       "      <td>Nike</td>\n",
       "      <td>6</td>\n",
       "    </tr>\n",
       "    <tr>\n",
       "      <th>6</th>\n",
       "      <td>551 Alvarado St</td>\n",
       "      <td>San Francisco</td>\n",
       "      <td>CA 94114</td>\n",
       "      <td>USA</td>\n",
       "      <td>Compton</td>\n",
       "      <td>9</td>\n",
       "    </tr>\n",
       "  </tbody>\n",
       "</table>\n",
       "</div>"
      ],
      "text/plain": [
       "            Address           City       State Country Supermarket  \\\n",
       "ID                                                                   \n",
       "1      3666 21st St  San Francisco    CA 94114     USA     Madeira   \n",
       "2    735 Dolores St  San Francisco    CA 94119     USA     Walmart   \n",
       "3       332 Hill St  San Francisco  California     USA        game   \n",
       "4      3995 23rd St  San Francisco    CA 94114     USA   Toys-R-Us   \n",
       "5   1056 Sanchez St  San Francisco  California     USA        Nike   \n",
       "6   551 Alvarado St  San Francisco    CA 94114     USA     Compton   \n",
       "\n",
       "    Number of Employees  \n",
       "ID                       \n",
       "1                     8  \n",
       "2                    20  \n",
       "3                    15  \n",
       "4                    35  \n",
       "5                     6  \n",
       "6                     9  "
      ]
     },
     "execution_count": 12,
     "metadata": {},
     "output_type": "execute_result"
    }
   ],
   "source": [
    "df3=pandas.read_excel(\"supermarkets.xlsx\")\n",
    "df3.set_index(\"ID\")"
   ]
  },
  {
   "cell_type": "code",
   "execution_count": 16,
   "metadata": {},
   "outputs": [
    {
     "data": {
      "text/html": [
       "<div>\n",
       "<style scoped>\n",
       "    .dataframe tbody tr th:only-of-type {\n",
       "        vertical-align: middle;\n",
       "    }\n",
       "\n",
       "    .dataframe tbody tr th {\n",
       "        vertical-align: top;\n",
       "    }\n",
       "\n",
       "    .dataframe thead th {\n",
       "        text-align: right;\n",
       "    }\n",
       "</style>\n",
       "<table border=\"1\" class=\"dataframe\">\n",
       "  <thead>\n",
       "    <tr style=\"text-align: right;\">\n",
       "      <th></th>\n",
       "      <th>Address</th>\n",
       "      <th>City</th>\n",
       "      <th>State</th>\n",
       "      <th>Country</th>\n",
       "      <th>Name</th>\n",
       "      <th>Employees</th>\n",
       "    </tr>\n",
       "    <tr>\n",
       "      <th>ID</th>\n",
       "      <th></th>\n",
       "      <th></th>\n",
       "      <th></th>\n",
       "      <th></th>\n",
       "      <th></th>\n",
       "      <th></th>\n",
       "    </tr>\n",
       "  </thead>\n",
       "  <tbody>\n",
       "    <tr>\n",
       "      <th>1</th>\n",
       "      <td>3666 21st St</td>\n",
       "      <td>San Francisco</td>\n",
       "      <td>CA 94114</td>\n",
       "      <td>USA</td>\n",
       "      <td>Madeira</td>\n",
       "      <td>8</td>\n",
       "    </tr>\n",
       "    <tr>\n",
       "      <th>2</th>\n",
       "      <td>735 Dolores St</td>\n",
       "      <td>San Francisco</td>\n",
       "      <td>CA 94119</td>\n",
       "      <td>USA</td>\n",
       "      <td>Bready Shop</td>\n",
       "      <td>15</td>\n",
       "    </tr>\n",
       "    <tr>\n",
       "      <th>3</th>\n",
       "      <td>332 Hill St</td>\n",
       "      <td>San Francisco</td>\n",
       "      <td>California 94114</td>\n",
       "      <td>USA</td>\n",
       "      <td>Super River</td>\n",
       "      <td>25</td>\n",
       "    </tr>\n",
       "    <tr>\n",
       "      <th>4</th>\n",
       "      <td>3995 23rd St</td>\n",
       "      <td>San Francisco</td>\n",
       "      <td>CA 94114</td>\n",
       "      <td>USA</td>\n",
       "      <td>Ben's Shop</td>\n",
       "      <td>10</td>\n",
       "    </tr>\n",
       "    <tr>\n",
       "      <th>5</th>\n",
       "      <td>1056 Sanchez St</td>\n",
       "      <td>San Francisco</td>\n",
       "      <td>California</td>\n",
       "      <td>USA</td>\n",
       "      <td>Sanchez</td>\n",
       "      <td>12</td>\n",
       "    </tr>\n",
       "    <tr>\n",
       "      <th>6</th>\n",
       "      <td>551 Alvarado St</td>\n",
       "      <td>San Francisco</td>\n",
       "      <td>CA 94114</td>\n",
       "      <td>USA</td>\n",
       "      <td>Richvalley</td>\n",
       "      <td>20</td>\n",
       "    </tr>\n",
       "  </tbody>\n",
       "</table>\n",
       "</div>"
      ],
      "text/plain": [
       "            Address           City             State Country         Name  \\\n",
       "ID                                                                          \n",
       "1      3666 21st St  San Francisco          CA 94114     USA      Madeira   \n",
       "2    735 Dolores St  San Francisco          CA 94119     USA  Bready Shop   \n",
       "3       332 Hill St  San Francisco  California 94114     USA  Super River   \n",
       "4      3995 23rd St  San Francisco          CA 94114     USA   Ben's Shop   \n",
       "5   1056 Sanchez St  San Francisco        California     USA      Sanchez   \n",
       "6   551 Alvarado St  San Francisco          CA 94114     USA   Richvalley   \n",
       "\n",
       "    Employees  \n",
       "ID             \n",
       "1           8  \n",
       "2          15  \n",
       "3          25  \n",
       "4          10  \n",
       "5          12  \n",
       "6          20  "
      ]
     },
     "execution_count": 16,
     "metadata": {},
     "output_type": "execute_result"
    }
   ],
   "source": [
    "df7=pandas.read_json(\"http://pythonhow.com/supermarkets.json\")\n",
    "df7=df7.set_index(\"ID\")\n",
    "df7"
   ]
  },
  {
   "cell_type": "code",
   "execution_count": 22,
   "metadata": {},
   "outputs": [
    {
     "data": {
      "text/html": [
       "<div>\n",
       "<style scoped>\n",
       "    .dataframe tbody tr th:only-of-type {\n",
       "        vertical-align: middle;\n",
       "    }\n",
       "\n",
       "    .dataframe tbody tr th {\n",
       "        vertical-align: top;\n",
       "    }\n",
       "\n",
       "    .dataframe thead th {\n",
       "        text-align: right;\n",
       "    }\n",
       "</style>\n",
       "<table border=\"1\" class=\"dataframe\">\n",
       "  <thead>\n",
       "    <tr style=\"text-align: right;\">\n",
       "      <th></th>\n",
       "      <th>Address</th>\n",
       "      <th>City</th>\n",
       "      <th>State</th>\n",
       "      <th>Country</th>\n",
       "    </tr>\n",
       "    <tr>\n",
       "      <th>ID</th>\n",
       "      <th></th>\n",
       "      <th></th>\n",
       "      <th></th>\n",
       "      <th></th>\n",
       "    </tr>\n",
       "  </thead>\n",
       "  <tbody>\n",
       "    <tr>\n",
       "      <th>2</th>\n",
       "      <td>735 Dolores St</td>\n",
       "      <td>San Francisco</td>\n",
       "      <td>CA 94119</td>\n",
       "      <td>USA</td>\n",
       "    </tr>\n",
       "    <tr>\n",
       "      <th>3</th>\n",
       "      <td>332 Hill St</td>\n",
       "      <td>San Francisco</td>\n",
       "      <td>California 94114</td>\n",
       "      <td>USA</td>\n",
       "    </tr>\n",
       "    <tr>\n",
       "      <th>4</th>\n",
       "      <td>3995 23rd St</td>\n",
       "      <td>San Francisco</td>\n",
       "      <td>CA 94114</td>\n",
       "      <td>USA</td>\n",
       "    </tr>\n",
       "  </tbody>\n",
       "</table>\n",
       "</div>"
      ],
      "text/plain": [
       "           Address           City             State Country\n",
       "ID                                                         \n",
       "2   735 Dolores St  San Francisco          CA 94119     USA\n",
       "3      332 Hill St  San Francisco  California 94114     USA\n",
       "4     3995 23rd St  San Francisco          CA 94114     USA"
      ]
     },
     "execution_count": 22,
     "metadata": {},
     "output_type": "execute_result"
    }
   ],
   "source": [
    "df7.iloc[1:4, 0:4]"
   ]
  },
  {
   "cell_type": "code",
   "execution_count": null,
   "metadata": {},
   "outputs": [],
   "source": [
    "#The above is position base indexing."
   ]
  },
  {
   "cell_type": "code",
   "execution_count": null,
   "metadata": {},
   "outputs": [],
   "source": [
    "#The below shows how to query specific data details. Which brings errors the df7.ix[3,5] "
   ]
  },
  {
   "cell_type": "code",
   "execution_count": 27,
   "metadata": {},
   "outputs": [],
   "source": [
    "from geopy.geocoders import Nominatim"
   ]
  },
  {
   "cell_type": "code",
   "execution_count": 29,
   "metadata": {},
   "outputs": [
    {
     "name": "stderr",
     "output_type": "stream",
     "text": [
      "<ipython-input-29-63c6ef2a0fcd>:1: DeprecationWarning: Using Nominatim with the default \"geopy/1.21.0\" `user_agent` is strongly discouraged, as it violates Nominatim's ToS https://operations.osmfoundation.org/policies/nominatim/ and may possibly cause 403 and 429 HTTP errors. Please specify a custom `user_agent` with `Nominatim(user_agent=\"my-application\")` or by overriding the default `user_agent`: `geopy.geocoders.options.default_user_agent = \"my-application\"`. In geopy 2.0 this will become an exception.\n",
      "  nom=Nominatim()\n"
     ]
    }
   ],
   "source": [
    "nom=Nominatim(scheme=\"http\")"
   ]
  },
  {
   "cell_type": "code",
   "execution_count": 30,
   "metadata": {},
   "outputs": [
    {
     "data": {
      "text/plain": [
       "Location(3995, 23rd Street, Noe Valley, San Francisco, San Francisco City and County, California, 94114, United States of America, (37.7529648, -122.4317141, 0.0))"
      ]
     },
     "execution_count": 30,
     "metadata": {},
     "output_type": "execute_result"
    }
   ],
   "source": [
    "nom.geocode(\"3995 23rd St, San Francisco, CA 94114\")"
   ]
  },
  {
   "cell_type": "code",
   "execution_count": null,
   "metadata": {},
   "outputs": [],
   "source": []
  }
 ],
 "metadata": {
  "kernelspec": {
   "display_name": "Python 3",
   "language": "python",
   "name": "python3"
  },
  "language_info": {
   "codemirror_mode": {
    "name": "ipython",
    "version": 3
   },
   "file_extension": ".py",
   "mimetype": "text/x-python",
   "name": "python",
   "nbconvert_exporter": "python",
   "pygments_lexer": "ipython3",
   "version": "3.8.1"
  }
 },
 "nbformat": 4,
 "nbformat_minor": 4
}
